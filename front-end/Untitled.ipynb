{
 "cells": [
  {
   "cell_type": "code",
   "execution_count": 1,
   "id": "4c811e18",
   "metadata": {},
   "outputs": [
    {
     "name": "stderr",
     "output_type": "stream",
     "text": [
      "/Users/iyeonyeong/anaconda3/lib/python3.11/site-packages/IPython/core/pylabtools.py:152: UserWarning: Glyph 51216 (\\N{HANGUL SYLLABLE JEOM}) missing from current font.\n",
      "  fig.canvas.print_figure(bytes_io, **kw)\n",
      "/Users/iyeonyeong/anaconda3/lib/python3.11/site-packages/IPython/core/pylabtools.py:152: UserWarning: Glyph 49688 (\\N{HANGUL SYLLABLE SU}) missing from current font.\n",
      "  fig.canvas.print_figure(bytes_io, **kw)\n",
      "/Users/iyeonyeong/anaconda3/lib/python3.11/site-packages/IPython/core/pylabtools.py:152: UserWarning: Glyph 51473 (\\N{HANGUL SYLLABLE JUNG}) missing from current font.\n",
      "  fig.canvas.print_figure(bytes_io, **kw)\n",
      "/Users/iyeonyeong/anaconda3/lib/python3.11/site-packages/IPython/core/pylabtools.py:152: UserWarning: Glyph 44036 (\\N{HANGUL SYLLABLE GAN}) missing from current font.\n",
      "  fig.canvas.print_figure(bytes_io, **kw)\n",
      "/Users/iyeonyeong/anaconda3/lib/python3.11/site-packages/IPython/core/pylabtools.py:152: UserWarning: Glyph 44256 (\\N{HANGUL SYLLABLE GO}) missing from current font.\n",
      "  fig.canvas.print_figure(bytes_io, **kw)\n",
      "/Users/iyeonyeong/anaconda3/lib/python3.11/site-packages/IPython/core/pylabtools.py:152: UserWarning: Glyph 49324 (\\N{HANGUL SYLLABLE SA}) missing from current font.\n",
      "  fig.canvas.print_figure(bytes_io, **kw)\n",
      "/Users/iyeonyeong/anaconda3/lib/python3.11/site-packages/IPython/core/pylabtools.py:152: UserWarning: Glyph 50752 (\\N{HANGUL SYLLABLE WA}) missing from current font.\n",
      "  fig.canvas.print_figure(bytes_io, **kw)\n",
      "/Users/iyeonyeong/anaconda3/lib/python3.11/site-packages/IPython/core/pylabtools.py:152: UserWarning: Glyph 44592 (\\N{HANGUL SYLLABLE GI}) missing from current font.\n",
      "  fig.canvas.print_figure(bytes_io, **kw)\n",
      "/Users/iyeonyeong/anaconda3/lib/python3.11/site-packages/IPython/core/pylabtools.py:152: UserWarning: Glyph 47568 (\\N{HANGUL SYLLABLE MAL}) missing from current font.\n",
      "  fig.canvas.print_figure(bytes_io, **kw)\n",
      "/Users/iyeonyeong/anaconda3/lib/python3.11/site-packages/IPython/core/pylabtools.py:152: UserWarning: Glyph 51032 (\\N{HANGUL SYLLABLE YI}) missing from current font.\n",
      "  fig.canvas.print_figure(bytes_io, **kw)\n",
      "/Users/iyeonyeong/anaconda3/lib/python3.11/site-packages/IPython/core/pylabtools.py:152: UserWarning: Glyph 48516 (\\N{HANGUL SYLLABLE BUN}) missing from current font.\n",
      "  fig.canvas.print_figure(bytes_io, **kw)\n",
      "/Users/iyeonyeong/anaconda3/lib/python3.11/site-packages/IPython/core/pylabtools.py:152: UserWarning: Glyph 54252 (\\N{HANGUL SYLLABLE PO}) missing from current font.\n",
      "  fig.canvas.print_figure(bytes_io, **kw)\n",
      "/Users/iyeonyeong/anaconda3/lib/python3.11/site-packages/IPython/core/pylabtools.py:152: UserWarning: Glyph 44536 (\\N{HANGUL SYLLABLE GEU}) missing from current font.\n",
      "  fig.canvas.print_figure(bytes_io, **kw)\n",
      "/Users/iyeonyeong/anaconda3/lib/python3.11/site-packages/IPython/core/pylabtools.py:152: UserWarning: Glyph 47353 (\\N{HANGUL SYLLABLE RUB}) missing from current font.\n",
      "  fig.canvas.print_figure(bytes_io, **kw)\n"
     ]
    },
    {
     "data": {
      "image/png": "[encoded data removed]",
      "text/plain": [
       "<Figure size 1000x600 with 1 Axes>"
      ]
     },
     "metadata": {},
     "output_type": "display_data"
    }
   ],
   "source": [
    "import matplotlib\n",
    "matplotlib.font_manager._rebuild()\n",
    "import matplotlib.pyplot as plt\n",
    "import seaborn as sns\n",
    "\n",
    "A = [82, 72, 87, 95, 86, 95, 98, 74, 75, 82, 85, 86, 98, 99, 57, 83, 90, 100, 97, 82, 96, 96, 86, 100, 90, 62, 51, 84, 52, 100, 100, 65, 82]\n",
    "B = [76, 63, 100, 100, 67, 88, 100, 82, 90, 65, 74, 62, 77, 100, 100, 89, 83, 56, 100, 99, 89, 88, 84, 72, 71, 60, 62, 82, 66, 72, 62, 49, 95]\n",
    "\n",
    "# 상자 그림 그리기\n",
    "plt.figure(figsize=(10, 6))\n",
    "sns.boxplot(data=[A, B], width=0.5, palette=\"Set1\")\n",
    "plt.xticks([0, 1], ['A', 'B'])\n",
    "plt.xlabel(\"그룹\")\n",
    "plt.ylabel(\"점수\")\n",
    "plt.title(\"중간고사와 기말고사 점수의 분포\")\n",
    "\n",
    "plt.show()"
   ]
  },
  {
   "cell_type": "code",
   "execution_count": 2,
   "id": "97be5c3f",
   "metadata": {},
   "outputs": [
    {
     "ename": "AttributeError",
     "evalue": "module 'matplotlib.font_manager' has no attribute '_rebuild'",
     "output_type": "error",
     "traceback": [
      "\u001b[0;31m---------------------------------------------------------------------------\u001b[0m",
      "\u001b[0;31mAttributeError\u001b[0m                            Traceback (most recent call last)",
      "Cell \u001b[0;32mIn[2], line 2\u001b[0m\n\u001b[1;32m      1\u001b[0m \u001b[38;5;28;01mimport\u001b[39;00m \u001b[38;5;21;01mmatplotlib\u001b[39;00m\n\u001b[0;32m----> 2\u001b[0m matplotlib\u001b[38;5;241m.\u001b[39mfont_manager\u001b[38;5;241m.\u001b[39m_rebuild()\n\u001b[1;32m      3\u001b[0m \u001b[38;5;28;01mimport\u001b[39;00m \u001b[38;5;21;01mmatplotlib\u001b[39;00m\u001b[38;5;21;01m.\u001b[39;00m\u001b[38;5;21;01mpyplot\u001b[39;00m \u001b[38;5;28;01mas\u001b[39;00m \u001b[38;5;21;01mplt\u001b[39;00m\n\u001b[1;32m      4\u001b[0m \u001b[38;5;28;01mimport\u001b[39;00m \u001b[38;5;21;01mseaborn\u001b[39;00m \u001b[38;5;28;01mas\u001b[39;00m \u001b[38;5;21;01msns\u001b[39;00m\n",
      "\u001b[0;31mAttributeError\u001b[0m: module 'matplotlib.font_manager' has no attribute '_rebuild'"
     ]
    }
   ],
   "source": [
    "import matplotlib\n",
    "matplotlib.font_manager._rebuild()\n",
    "import matplotlib.pyplot as plt\n",
    "import seaborn as sns\n",
    "\n",
    "A = [82, 72, 87, 95, 86, 95, 98, 74, 75, 82, 85, 86, 98, 99, 57, 83, 90, 100, 97, 82, 96, 96, 86, 100, 90, 62, 51, 84, 52, 100, 100, 65, 82]\n",
    "B = [76, 63, 100, 100, 67, 88, 100, 82, 90, 65, 74, 62, 77, 100, 100, 89, 83, 56, 100, 99, 89, 88, 84, 72, 71, 60, 62, 82, 66, 72, 62, 49, 95]\n",
    "\n",
    "# 상자 그림 그리기\n",
    "plt.figure(figsize=(10, 6))\n",
    "sns.boxplot(data=[A, B], width=0.5, palette=\"Set1\")\n",
    "plt.xticks([0, 1], ['A', 'B'])\n",
    "plt.xlabel(\"그룹\")\n",
    "plt.ylabel(\"점수\")\n",
    "plt.title(\"중간고사와 기말고사 점수의 분포\")\n",
    "\n",
    "plt.show()"
   ]
  },
  {
   "cell_type": "code",
   "execution_count": 3,
   "id": "6daeedc2",
   "metadata": {},
   "outputs": [],
   "source": [
    "import matplotlib"
   ]
  },
  {
   "cell_type": "code",
   "execution_count": 4,
   "id": "c23c7ef8",
   "metadata": {},
   "outputs": [
    {
     "ename": "NameError",
     "evalue": "name 'mathplotlib' is not defined",
     "output_type": "error",
     "traceback": [
      "\u001b[0;31m---------------------------------------------------------------------------\u001b[0m",
      "\u001b[0;31mNameError\u001b[0m                                 Traceback (most recent call last)",
      "Cell \u001b[0;32mIn[4], line 1\u001b[0m\n\u001b[0;32m----> 1\u001b[0m mathplotlib\u001b[38;5;241m.\u001b[39mfont_magager\u001b[38;5;241m.\u001b[39m_rebuild()\n",
      "\u001b[0;31mNameError\u001b[0m: name 'mathplotlib' is not defined"
     ]
    }
   ],
   "source": [
    "mathplotlib.font_magager._rebuild()"
   ]
  },
  {
   "cell_type": "code",
   "execution_count": 5,
   "id": "49e7a705",
   "metadata": {},
   "outputs": [
    {
     "ename": "AttributeError",
     "evalue": "module 'matplotlib.font_manager' has no attribute '_rebuild'",
     "output_type": "error",
     "traceback": [
      "\u001b[0;31m---------------------------------------------------------------------------\u001b[0m",
      "\u001b[0;31mAttributeError\u001b[0m                            Traceback (most recent call last)",
      "Cell \u001b[0;32mIn[5], line 2\u001b[0m\n\u001b[1;32m      1\u001b[0m \u001b[38;5;28;01mimport\u001b[39;00m \u001b[38;5;21;01mmatplotlib\u001b[39;00m\n\u001b[0;32m----> 2\u001b[0m matplotlib\u001b[38;5;241m.\u001b[39mfont_manager\u001b[38;5;241m.\u001b[39m_rebuild()\n",
      "\u001b[0;31mAttributeError\u001b[0m: module 'matplotlib.font_manager' has no attribute '_rebuild'"
     ]
    }
   ],
   "source": [
    "import matplotlib\n",
    "matplotlib.font_manager._rebuild()"
   ]
  },
  {
   "cell_type": "code",
   "execution_count": 6,
   "id": "31e4d7d4",
   "metadata": {},
   "outputs": [
    {
     "ename": "ModuleNotFoundError",
     "evalue": "No module named 'mathplotlib'",
     "output_type": "error",
     "traceback": [
      "\u001b[0;31m---------------------------------------------------------------------------\u001b[0m",
      "\u001b[0;31mModuleNotFoundError\u001b[0m                       Traceback (most recent call last)",
      "Cell \u001b[0;32mIn[6], line 2\u001b[0m\n\u001b[1;32m      1\u001b[0m \u001b[38;5;28;01mimport\u001b[39;00m \u001b[38;5;21;01mmatplotlib\u001b[39;00m\u001b[38;5;21;01m.\u001b[39;00m\u001b[38;5;21;01mpyplot\u001b[39;00m \u001b[38;5;28;01mas\u001b[39;00m \u001b[38;5;21;01mplt\u001b[39;00m\n\u001b[0;32m----> 2\u001b[0m \u001b[38;5;28;01mfrom\u001b[39;00m \u001b[38;5;21;01mmathplotlib\u001b[39;00m \u001b[38;5;28;01mimport\u001b[39;00m rc\n\u001b[1;32m      3\u001b[0m \u001b[38;5;28;01mimport\u001b[39;00m \u001b[38;5;21;01mseaborn\u001b[39;00m \u001b[38;5;28;01mas\u001b[39;00m \u001b[38;5;21;01msns\u001b[39;00m\n\u001b[1;32m      4\u001b[0m get_ipython()\u001b[38;5;241m.\u001b[39mrun_line_magic(\u001b[38;5;124m'\u001b[39m\u001b[38;5;124mmatplotlib\u001b[39m\u001b[38;5;124m'\u001b[39m, \u001b[38;5;124m'\u001b[39m\u001b[38;5;124minline\u001b[39m\u001b[38;5;124m'\u001b[39m)\n",
      "\u001b[0;31mModuleNotFoundError\u001b[0m: No module named 'mathplotlib'"
     ]
    }
   ],
   "source": [
    "import matplotlib.pyplot as plt\n",
    "from mathplotlib import rc\n",
    "import seaborn as sns\n",
    "%matplotlib inline\n",
    "\n",
    "rc('font', family='AppleGothic')\n",
    "plt.rcParams['axes.unicode_minus'] = False"
   ]
  },
  {
   "cell_type": "code",
   "execution_count": 7,
   "id": "9d35568c",
   "metadata": {},
   "outputs": [],
   "source": [
    "import matplotlib.pyplot as plt\n",
    "from matplotlib import rc\n",
    "import seaborn as sns\n",
    "%matplotlib inline\n",
    "\n",
    "rc('font', family='AppleGothic')\n",
    "plt.rcParams['axes.unicode_minus'] = False"
   ]
  },
  {
   "cell_type": "code",
   "execution_count": 8,
   "id": "2c48cff6",
   "metadata": {},
   "outputs": [
    {
     "ename": "AttributeError",
     "evalue": "module 'matplotlib.font_manager' has no attribute '_rebuild'",
     "output_type": "error",
     "traceback": [
      "\u001b[0;31m---------------------------------------------------------------------------\u001b[0m",
      "\u001b[0;31mAttributeError\u001b[0m                            Traceback (most recent call last)",
      "Cell \u001b[0;32mIn[8], line 2\u001b[0m\n\u001b[1;32m      1\u001b[0m \u001b[38;5;28;01mimport\u001b[39;00m \u001b[38;5;21;01mmatplotlib\u001b[39;00m\n\u001b[0;32m----> 2\u001b[0m matplotlib\u001b[38;5;241m.\u001b[39mfont_manager\u001b[38;5;241m.\u001b[39m_rebuild()\n\u001b[1;32m      3\u001b[0m \u001b[38;5;28;01mimport\u001b[39;00m \u001b[38;5;21;01mmatplotlib\u001b[39;00m\u001b[38;5;21;01m.\u001b[39;00m\u001b[38;5;21;01mpyplot\u001b[39;00m \u001b[38;5;28;01mas\u001b[39;00m \u001b[38;5;21;01mplt\u001b[39;00m\n\u001b[1;32m      4\u001b[0m \u001b[38;5;28;01mimport\u001b[39;00m \u001b[38;5;21;01mseaborn\u001b[39;00m \u001b[38;5;28;01mas\u001b[39;00m \u001b[38;5;21;01msns\u001b[39;00m\n",
      "\u001b[0;31mAttributeError\u001b[0m: module 'matplotlib.font_manager' has no attribute '_rebuild'"
     ]
    }
   ],
   "source": [
    "import matplotlib\n",
    "matplotlib.font_manager._rebuild()\n",
    "import matplotlib.pyplot as plt\n",
    "import seaborn as sns\n",
    "\n",
    "A = [82, 72, 87, 95, 86, 95, 98, 74, 75, 82, 85, 86, 98, 99, 57, 83, 90, 100, 97, 82, 96, 96, 86, 100, 90, 62, 51, 84, 52, 100, 100, 65, 82]\n",
    "B = [76, 63, 100, 100, 67, 88, 100, 82, 90, 65, 74, 62, 77, 100, 100, 89, 83, 56, 100, 99, 89, 88, 84, 72, 71, 60, 62, 82, 66, 72, 62, 49, 95]\n",
    "\n",
    "# 상자 그림 그리기\n",
    "plt.figure(figsize=(10, 6))\n",
    "sns.boxplot(data=[A, B], width=0.5, palette=\"Set1\")\n",
    "plt.xticks([0, 1], ['A', 'B'])\n",
    "plt.xlabel(\"그룹\")\n",
    "plt.ylabel(\"점수\")\n",
    "plt.title(\"중간고사와 기말고사 점수의 분포\")\n",
    "\n",
    "plt.show()\n"
   ]
  },
  {
   "cell_type": "code",
   "execution_count": 9,
   "id": "1dde8b02",
   "metadata": {},
   "outputs": [
    {
     "data": {
      "image/png": "[encoded data removed]",
      "text/plain": [
       "<Figure size 1000x600 with 1 Axes>"
      ]
     },
     "metadata": {},
     "output_type": "display_data"
    }
   ],
   "source": [
    "import matplotlib.pyplot as plt\n",
    "import seaborn as sns\n",
    "\n",
    "A = [82, 72, 87, 95, 86, 95, 98, 74, 75, 82, 85, 86, 98, 99, 57, 83, 90, 100, 97, 82, 96, 96, 86, 100, 90, 62, 51, 84, 52, 100, 100, 65, 82]\n",
    "B = [76, 63, 100, 100, 67, 88, 100, 82, 90, 65, 74, 62, 77, 100, 100, 89, 83, 56, 100, 99, 89, 88, 84, 72, 71, 60, 62, 82, 66, 72, 62, 49, 95]\n",
    "\n",
    "# 상자 그림 그리기\n",
    "plt.figure(figsize=(10, 6))\n",
    "sns.boxplot(data=[A, B], width=0.5, palette=\"Set1\")\n",
    "plt.xticks([0, 1], ['A', 'B'])\n",
    "plt.xlabel(\"그룹\")\n",
    "plt.ylabel(\"점수\")\n",
    "plt.title(\"중간고사와 기말고사 점수의 분포\")\n",
    "\n",
    "plt.show()"
   ]
  },
  {
   "cell_type": "code",
   "execution_count": 10,
   "id": "a48bde83",
   "metadata": {},
   "outputs": [
    {
     "name": "stdout",
     "output_type": "stream",
     "text": [
      "대응 표본 t-검정 결과:\n",
      "t-통계량 (t-statistic): 1.612144012293084\n",
      "p-값 (p-value): 0.11675121646814679\n",
      "유의수준 0.05에서 두 그룹의 중간고사와 기말고사 성적은 통계적으로 다르지 않습니다.\n"
     ]
    }
   ],
   "source": [
    "from scipy.stats import ttest_rel\n",
    "\n",
    "\n",
    "# 대응 표본 t-검정 수행\n",
    "t_statistic, p_value = ttest_rel(A, B)\n",
    "\n",
    "print(\"대응 표본 t-검정 결과:\")\n",
    "print(\"t-통계량 (t-statistic):\", t_statistic)\n",
    "print(\"p-값 (p-value):\", p_value)\n",
    "\n",
    "# 유의수준 0.05에서의 검정\n",
    "alpha = 0.05\n",
    "if p_value < alpha:\n",
    "    print(\"유의수준 {}에서 두 그룹의 중간고사와 기말고사 성적이 통계적으로 다릅니다.\".format(alpha))\n",
    "else:\n",
    "    print(\"유의수준 {}에서 두 그룹의 중간고사와 기말고사 성적은 통계적으로 다르지 않습니다.\".format(alpha))\n"
   ]
  },
  {
   "cell_type": "code",
   "execution_count": 11,
   "id": "3e54ddab",
   "metadata": {},
   "outputs": [
    {
     "data": {
      "image/png": "[encoded data removed]",
      "text/plain": [
       "<Figure size 1000x600 with 1 Axes>"
      ]
     },
     "metadata": {},
     "output_type": "display_data"
    },
    {
     "name": "stdout",
     "output_type": "stream",
     "text": [
      "대응 표본 t-검정 결과:\n",
      "t-통계량 (t-statistic): 1.612144012293084\n",
      "p-값 (p-value): 0.11675121646814679\n",
      "유의수준 0.05에서 두 그룹의 중간고사와 기말고사 성적은 통계적으로 다르지 않습니다.\n"
     ]
    }
   ],
   "source": [
    "from scipy.stats import ttest_rel\n",
    "import matplotlib.pyplot as plt\n",
    "import seaborn as sns\n",
    "\n",
    "A = [82, 72, 87, 95, 86, 95, 98, 74, 75, 82, 85, 86, 98, 99, 57, 83, 90, 100, 97, 82, 96, 96, 86, 100, 90, 62, 51, 84, 52, 100, 100, 65, 82]\n",
    "B = [76, 63, 100, 100, 67, 88, 100, 82, 90, 65, 74, 62, 77, 100, 100, 89, 83, 56, 100, 99, 89, 88, 84, 72, 71, 60, 62, 82, 66, 72, 62, 49, 95]\n",
    "\n",
    "# 상자 그림 그리기\n",
    "plt.figure(figsize=(10, 6))\n",
    "sns.boxplot(data=[A, B], width=0.5, palette=\"Set1\")\n",
    "plt.xticks([0, 1], ['A', 'B'])\n",
    "plt.xlabel(\"그룹\")\n",
    "plt.ylabel(\"점수\")\n",
    "plt.title(\"중간고사와 기말고사 점수의 분포\")\n",
    "\n",
    "plt.show()\n",
    "\n",
    "# 대응 표본 t-검정 수행\n",
    "t_statistic, p_value = ttest_rel(A, B)\n",
    "\n",
    "print(\"대응 표본 t-검정 결과:\")\n",
    "print(\"t-통계량 (t-statistic):\", t_statistic)\n",
    "print(\"p-값 (p-value):\", p_value)\n",
    "\n",
    "# 유의수준 0.05에서의 검정\n",
    "alpha = 0.05\n",
    "if p_value < alpha:\n",
    "    print(\"유의수준 {}에서 두 그룹의 중간고사와 기말고사 성적이 통계적으로 다릅니다.\".format(alpha))\n",
    "else:\n",
    "    print(\"유의수준 {}에서 두 그룹의 중간고사와 기말고사 성적은 통계적으로 다르지 않습니다.\".format(alpha))\n"
   ]
  },
  {
   "cell_type": "code",
   "execution_count": null,
   "id": "cee2dbfc",
   "metadata": {},
   "outputs": [],
   "source": []
  }
 ],
 "metadata": {
  "kernelspec": {
   "display_name": "Python 3 (ipykernel)",
   "language": "python",
   "name": "python3"
  },
  "language_info": {
   "codemirror_mode": {
    "name": "ipython",
    "version": 3
   },
   "file_extension": ".py",
   "mimetype": "text/x-python",
   "name": "python",
   "nbconvert_exporter": "python",
   "pygments_lexer": "ipython3",
   "version": "3.11.4"
  }
 },
 "nbformat": 4,
 "nbformat_minor": 5
}
